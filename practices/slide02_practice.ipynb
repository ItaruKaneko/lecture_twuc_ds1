{
 "cells": [
  {
   "cell_type": "markdown",
   "metadata": {},
   "source": [
    "# slide02\n",
    "## sheet 4 の練習問題\n",
    "\n",
    "練習問題①\n",
    "\n",
    "次のデータの平均値、中央値、範囲、不偏分散、不偏標準偏差を求めよ"
   ]
  },
  {
   "cell_type": "code",
   "execution_count": 4,
   "metadata": {
    "vscode": {
     "languageId": "r"
    }
   },
   "outputs": [],
   "source": [
    "x <- c( 4, 7, 9, 6, 0, 8, 7, 5, 5, 7, 9, 4, 7, 6 )"
   ]
  },
  {
   "cell_type": "code",
   "execution_count": null,
   "metadata": {
    "vscode": {
     "languageId": "r"
    }
   },
   "outputs": [],
   "source": [
    "# 平均値\n",
    "y <- ???(x)\n",
    "print(y)"
   ]
  },
  {
   "cell_type": "code",
   "execution_count": null,
   "metadata": {
    "vscode": {
     "languageId": "r"
    }
   },
   "outputs": [],
   "source": [
    "# 中央値\n",
    "y <- ???(x)\n",
    "print(y)"
   ]
  },
  {
   "cell_type": "code",
   "execution_count": null,
   "metadata": {
    "vscode": {
     "languageId": "r"
    }
   },
   "outputs": [],
   "source": [
    "# 範囲\n",
    "y <- ???(x)\n",
    "print(y)"
   ]
  },
  {
   "cell_type": "code",
   "execution_count": null,
   "metadata": {
    "vscode": {
     "languageId": "r"
    }
   },
   "outputs": [],
   "source": [
    "# 分散（不偏分散）\n",
    "y <- ???(x)\n",
    "print(y)"
   ]
  },
  {
   "cell_type": "code",
   "execution_count": null,
   "metadata": {
    "vscode": {
     "languageId": "r"
    }
   },
   "outputs": [],
   "source": [
    "# 標準偏差（不偏標準偏差）\n",
    "y <- ???(x)\n",
    "print(y)"
   ]
  },
  {
   "cell_type": "code",
   "execution_count": null,
   "metadata": {
    "vscode": {
     "languageId": "r"
    }
   },
   "outputs": [],
   "source": [
    "# 平均値\n",
    "y <- ???(x)\n",
    "print(y)"
   ]
  },
  {
   "cell_type": "code",
   "execution_count": null,
   "metadata": {
    "vscode": {
     "languageId": "r"
    }
   },
   "outputs": [],
   "source": [
    "# 平均値\n",
    "y <- ???(x)\n",
    "print(y)"
   ]
  },
  {
   "cell_type": "markdown",
   "metadata": {},
   "source": [
    "## Sheet 6 の演習問題\n",
    "\n"
   ]
  },
  {
   "cell_type": "code",
   "execution_count": 9,
   "metadata": {
    "vscode": {
     "languageId": "r"
    }
   },
   "outputs": [
    {
     "name": "stdout",
     "output_type": "stream",
     "text": [
      "x= 67 42 55 87 92 60 35 46 72 95 \n",
      "y= 55 50 42 82 84 70 40 32 68 98 \n",
      "z= 42 33 57 35 30 54 70 82 42 30 \n"
     ]
    }
   ],
   "source": [
    "x <- c(67, 42, 55, 87, 92, 60, 35, 46, 72, 95)\n",
    "y <- c(55, 50, 42, 82, 84, 70, 40, 32, 68, 98)\n",
    "z <- c(42, 33, 57, 35, 30, 54, 70, 82, 42, 30)\n",
    "cat('x=',x,'\\n')\n",
    "cat('y=',y,'\\n')\n",
    "cat('z=',z,'\\n')\n"
   ]
  },
  {
   "cell_type": "code",
   "execution_count": 10,
   "metadata": {
    "vscode": {
     "languageId": "r"
    }
   },
   "outputs": [
    {
     "name": "stdout",
     "output_type": "stream",
     "text": [
      "   数学 国語 英語\n",
      "1    67   55   42\n",
      "2    42   50   33\n",
      "3    55   42   57\n",
      "4    87   82   35\n",
      "5    92   84   30\n",
      "6    60   70   54\n",
      "7    35   40   70\n",
      "8    46   32   82\n",
      "9    72   68   42\n",
      "10   95   98   30\n"
     ]
    }
   ],
   "source": [
    "df <- data.frame(数学 =  x,  国語 = y, 英語 = z)\n",
    "print(df)"
   ]
  },
  {
   "cell_type": "code",
   "execution_count": 11,
   "metadata": {
    "vscode": {
     "languageId": "r"
    }
   },
   "outputs": [],
   "source": [
    "rownames(df) <- c( 10001, 10002, 10003, 10004, 10005, 10006, 10007, 10008, 10009, 10010 )\n",
    "print(df)"
   ]
  },
  {
   "cell_type": "code",
   "execution_count": 12,
   "metadata": {
    "vscode": {
     "languageId": "r"
    }
   },
   "outputs": [
    {
     "data": {
      "text/html": [
       "<table>\n",
       "<thead><tr><th></th><th scope=col>数学</th><th scope=col>国語</th><th scope=col>英語</th></tr></thead>\n",
       "<tbody>\n",
       "\t<tr><th scope=row>数学</th><td> 1.0000000</td><td> 0.9136100</td><td>-0.7150556</td></tr>\n",
       "\t<tr><th scope=row>国語</th><td> 0.9136100</td><td> 1.0000000</td><td>-0.7879723</td></tr>\n",
       "\t<tr><th scope=row>英語</th><td>-0.7150556</td><td>-0.7879723</td><td> 1.0000000</td></tr>\n",
       "</tbody>\n",
       "</table>\n"
      ],
      "text/latex": [
       "\\begin{tabular}{r|lll}\n",
       "  & 数学 & 国語 & 英語\\\\\n",
       "\\hline\n",
       "\t数学 &  1.0000000 &  0.9136100 & -0.7150556\\\\\n",
       "\t国語 &  0.9136100 &  1.0000000 & -0.7879723\\\\\n",
       "\t英語 & -0.7150556 & -0.7879723 &  1.0000000\\\\\n",
       "\\end{tabular}\n"
      ],
      "text/markdown": [
       "\n",
       "| <!--/--> | 数学 | 国語 | 英語 |\n",
       "|---|---|---|---|\n",
       "| 数学 |  1.0000000 |  0.9136100 | -0.7150556 |\n",
       "| 国語 |  0.9136100 |  1.0000000 | -0.7879723 |\n",
       "| 英語 | -0.7150556 | -0.7879723 |  1.0000000 |\n",
       "\n"
      ],
      "text/plain": [
       "     数学       国語       英語      \n",
       "数学  1.0000000  0.9136100 -0.7150556\n",
       "国語  0.9136100  1.0000000 -0.7879723\n",
       "英語 -0.7150556 -0.7879723  1.0000000"
      ]
     },
     "metadata": {},
     "output_type": "display_data"
    }
   ],
   "source": [
    "cor(df)"
   ]
  },
  {
   "cell_type": "markdown",
   "metadata": {},
   "source": [
    "## slide 9"
   ]
  },
  {
   "cell_type": "code",
   "execution_count": 18,
   "metadata": {
    "vscode": {
     "languageId": "r"
    }
   },
   "outputs": [
    {
     "name": "stdout",
     "output_type": "stream",
     "text": [
      "       児童数.計 児童数.男 児童数.女\n",
      "茨城      138998     71195     67803\n",
      "栃木       96704     49614     47090\n",
      "群馬       96764     49520     47244\n",
      "埼玉      366426    187309    179117\n",
      "千葉      309567    158790    150777\n",
      "東京      619291    316864    302427\n",
      "神奈川    454750    232861    221889\n"
     ]
    }
   ],
   "source": [
    "x <- c(138998, 96704, 96764, 366426, 309567, 619291, 454750)\n",
    "y <- c(71195, 49614, 49520, 187309, 158790, 316864, 232861)\n",
    "z <- c(67803, 47090, 47244, 179117, 150777, 302427, 221889)\n",
    "df2 <- data.frame(児童数.計 =  x,  児童数.男 = y, 児童数.女 = z)\n",
    "rownames(df2) <- c( '茨城', '栃木', '群馬', '埼玉', '千葉', '東京', '神奈川')\n",
    "print(df2)"
   ]
  },
  {
   "cell_type": "code",
   "execution_count": null,
   "metadata": {
    "vscode": {
     "languageId": "r"
    }
   },
   "outputs": [],
   "source": [
    "# 児童数.計の棒グラフ"
   ]
  },
  {
   "cell_type": "code",
   "execution_count": null,
   "metadata": {
    "vscode": {
     "languageId": "r"
    }
   },
   "outputs": [],
   "source": [
    "# 児童数.男, 児童数.女 の棒グラフ"
   ]
  },
  {
   "cell_type": "code",
   "execution_count": null,
   "metadata": {
    "vscode": {
     "languageId": "r"
    }
   },
   "outputs": [],
   "source": [
    "# 児童数.男, 児童数.女 の積み上げグラフ\n"
   ]
  },
  {
   "cell_type": "code",
   "execution_count": null,
   "metadata": {
    "vscode": {
     "languageId": "r"
    }
   },
   "outputs": [],
   "source": [
    "# 児童数.男, 児童数.女 の割合グラフ\n"
   ]
  },
  {
   "cell_type": "code",
   "execution_count": null,
   "metadata": {
    "vscode": {
     "languageId": "r"
    }
   },
   "outputs": [],
   "source": [
    "# 児童数.男, 児童数.女 の棒グラフ\n"
   ]
  }
 ],
 "metadata": {
  "kernelspec": {
   "display_name": "R",
   "language": "R",
   "name": "ir"
  },
  "language_info": {
   "codemirror_mode": "r",
   "file_extension": ".r",
   "mimetype": "text/x-r-source",
   "name": "R",
   "pygments_lexer": "r",
   "version": "3.6.1"
  }
 },
 "nbformat": 4,
 "nbformat_minor": 2
}
