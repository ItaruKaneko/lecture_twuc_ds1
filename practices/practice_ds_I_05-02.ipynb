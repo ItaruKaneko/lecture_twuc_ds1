{
 "cells": [
  {
   "cell_type": "markdown",
   "metadata": {},
   "source": [
    "# practice_ds_I_05-02.ipynb\n",
    "\n",
    "第5回講義用 practice_ds_I_05-02\n"
   ]
  },
  {
   "cell_type": "markdown",
   "metadata": {},
   "source": [
    "## 準備\n",
    "'data3-1SchoolData.csv' を作業用フォルダにアップロードしておく\n",
    "作業フォルダで上記ファイルが読めることを確認"
   ]
  },
  {
   "cell_type": "code",
   "execution_count": null,
   "metadata": {
    "vscode": {
     "languageId": "r"
    }
   },
   "outputs": [],
   "source": [
    "# 適切なフォルダを設定するように修正する\n",
    "# 金子の環境でパソコン上で実行する場合\n",
    "newwd = 'C:/Users/itaru/OneDrive/Desktop/dsmypc/ds_I_i05'\n",
    "setwd(newwd)\n",
    "\n",
    "# google colab 上で実行する場合なにもしない\n",
    "\n",
    "wd1 = getwd()\n",
    "list.files(path = wd1)"
   ]
  },
  {
   "cell_type": "markdown",
   "metadata": {},
   "source": [
    "\n",
    "data3-1SchoolData.csv があれば正解"
   ]
  },
  {
   "cell_type": "code",
   "execution_count": null,
   "metadata": {
    "vscode": {
     "languageId": "r"
    }
   },
   "outputs": [],
   "source": [
    "alldata <- read.csv( \"data3-1SchoolData.csv\", head = TRUE, row.names = 1 )"
   ]
  },
  {
   "cell_type": "code",
   "execution_count": null,
   "metadata": {
    "vscode": {
     "languageId": "r"
    }
   },
   "outputs": [],
   "source": [
    "\n",
    "# 関東地方の児童数だけ抜き出す\n",
    "kanto1 <- alldata[8:14, 1:3]\n",
    "#  行列の転置（行と列の入れ替え）\n",
    "kanto2 <- t( kanto1 )"
   ]
  },
  {
   "cell_type": "markdown",
   "metadata": {},
   "source": [
    "\n",
    "## slide02 / page 6 グラフの描画"
   ]
  },
  {
   "cell_type": "code",
   "execution_count": null,
   "metadata": {
    "vscode": {
     "languageId": "r"
    }
   },
   "outputs": [],
   "source": [
    "#  男女の複数系列の棒グラフの作図\n",
    "barplot( kanto2[2:3, ], beside = TRUE )"
   ]
  },
  {
   "cell_type": "code",
   "execution_count": null,
   "metadata": {
    "vscode": {
     "languageId": "r"
    }
   },
   "outputs": [],
   "source": [
    "\n",
    "#  凡例を追加したグラフ\n",
    "barplot( kanto2[2:3, ], beside = TRUE, legend = TRUE )"
   ]
  },
  {
   "cell_type": "code",
   "execution_count": null,
   "metadata": {
    "vscode": {
     "languageId": "r"
    }
   },
   "outputs": [],
   "source": [
    "\n",
    "#  凡例を追加したグラフ\n",
    "barplot( kanto2[2:3, ], beside = TRUE, legend = TRUE,\n",
    "args.legend = list( x = \"topleft\" ) )"
   ]
  },
  {
   "cell_type": "code",
   "execution_count": null,
   "metadata": {
    "vscode": {
     "languageId": "r"
    }
   },
   "outputs": [],
   "source": [
    "##  男女の積み上げ棒グラフの作図\n",
    "barplot( kanto2[2:3, ], legend = TRUE, args.legend = list( x = \"topleft\" ) )"
   ]
  },
  {
   "cell_type": "code",
   "execution_count": null,
   "metadata": {
    "vscode": {
     "languageId": "r"
    }
   },
   "outputs": [],
   "source": [
    "\n",
    "## 帯グラフ\n",
    "#  関東の教員データを抽出\n",
    "kanto3 <- alldata[8:14, 10:12]\n",
    "kanto4 <- data.frame( 男性教員 = kanto3[, 2] / kanto3[, 1],女性教員 = kanto3[, 3] / kanto3[, 1] )\n",
    "##  新しく作成したデータフレームに行ラベルを付ける\n",
    "rownames(kanto4) <- rownames(kanto3)\n",
    "##  行列の転置\n",
    "kanto5 <- t( kanto4 )\n",
    "##  帯グラフの作成\n",
    "barplot(kanto5, horiz = TRUE, legend = TRUE)"
   ]
  },
  {
   "cell_type": "markdown",
   "metadata": {},
   "source": [
    "### 円グラフ"
   ]
  },
  {
   "cell_type": "code",
   "execution_count": 16,
   "metadata": {
    "vscode": {
     "languageId": "r"
    }
   },
   "outputs": [
    {
     "data": {
      "image/png": "[encoded data removed]",
      "text/plain": [
       "plot without title"
      ]
     },
     "metadata": {},
     "output_type": "display_data"
    }
   ],
   "source": [
    "#  茨城県の円グラフを作成\n",
    "pie(kanto5[, 1])"
   ]
  },
  {
   "cell_type": "code",
   "execution_count": null,
   "metadata": {
    "vscode": {
     "languageId": "r"
    }
   },
   "outputs": [],
   "source": [
    "## \n",
    "# 折れ線グラフ\n",
    "#「data3-2Population.csv」をインポート\n",
    "popdata <- read.csv( \"data3-2Population.csv\", head = TRUE )\n",
    "#  原点を含まない折れ線グラフの作成\n",
    "plot( popdata[, 1:2], type = \"o\" )"
   ]
  }
 ],
 "metadata": {
  "kernelspec": {
   "display_name": "R",
   "language": "R",
   "name": "ir"
  },
  "language_info": {
   "codemirror_mode": "r",
   "file_extension": ".r",
   "mimetype": "text/x-r-source",
   "name": "R",
   "pygments_lexer": "r",
   "version": "3.6.1"
  }
 },
 "nbformat": 4,
 "nbformat_minor": 2
}
