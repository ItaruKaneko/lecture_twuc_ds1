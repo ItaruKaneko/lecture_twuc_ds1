{
 "cells": [
  {
   "cell_type": "markdown",
   "metadata": {},
   "source": [
    "# practice_ds_I_06-01.ipynb\n",
    "\n",
    "第6回講義用 practice_ds_I_06-01\n"
   ]
  },
  {
   "cell_type": "markdown",
   "metadata": {},
   "source": [
    "## 1. ファイルの準備\n",
    "google colabか vs code かによって、以下のどちらかを行う。"
   ]
  },
  {
   "cell_type": "code",
   "execution_count": null,
   "metadata": {
    "vscode": {
     "languageId": "r"
    }
   },
   "outputs": [],
   "source": [
    "# 準備 Google colab の場合\n",
    "# 'data3-4Banknote2.csv' をgoogle colabにアップロードしておく\n",
    "\n",
    "# google colab 上で実行する場合なにもしない\n"
   ]
  },
  {
   "cell_type": "code",
   "execution_count": null,
   "metadata": {
    "vscode": {
     "languageId": "r"
    }
   },
   "outputs": [],
   "source": [
    "# VS Code + Jupyter の場合\n",
    "# 'data3-4Banknote2.csv' を作業フォルダにアップロードしておく\n",
    "\n",
    "# 適切なフォルダを設定するように修正する\n",
    "# 金子の環境でパソコン上で実行する場合\n",
    "newwd = 'C:/Users/itaru/OneDrive/Desktop/dsmypc/ds_I_06'\n",
    "setwd(newwd)"
   ]
  },
  {
   "cell_type": "code",
   "execution_count": null,
   "metadata": {
    "vscode": {
     "languageId": "r"
    }
   },
   "outputs": [],
   "source": [
    "# 作業フォルダにファイルがあるかどうかを確認する\n",
    "wd1 = getwd()  # wd1 に作業フォルダのパスを取得\n",
    "cat('作業フォルダ = ', wd1)\n",
    "list.files(path = wd1)"
   ]
  },
  {
   "cell_type": "markdown",
   "metadata": {},
   "source": [
    "\n",
    "data3-1SchoolData.csv があれば正解"
   ]
  },
  {
   "cell_type": "code",
   "execution_count": null,
   "metadata": {
    "vscode": {
     "languageId": "r"
    }
   },
   "outputs": [],
   "source": [
    "banknote2 <- read.csv( \"data3-4Banknote2.csv\", head = TRUE, row.names = 1 )"
   ]
  },
  {
   "cell_type": "markdown",
   "metadata": {},
   "source": [
    "## 2. Slide03 演習"
   ]
  },
  {
   "cell_type": "markdown",
   "metadata": {},
   "source": [
    "### 2.1 banknote2 の確認\n",
    "\n",
    "banknote2 にはお札の寸法のデータが格納されています。\n",
    "内容を確認してみましょう。\n",
    "\n"
   ]
  },
  {
   "cell_type": "code",
   "execution_count": null,
   "metadata": {
    "vscode": {
     "languageId": "r"
    }
   },
   "outputs": [],
   "source": [
    "# 2.1\n",
    "# 以下のxxxxになにをいれれば、banknote2 の内容が確認できるかを考えてください。\n",
    "xxxxxx(banknote2)"
   ]
  },
  {
   "cell_type": "markdown",
   "metadata": {},
   "source": [
    "### 2.2 長さの欄を見る\n",
    "\n",
    "R では 変数$項目名、で表形式のデータの一項目を抽出できます。\n",
    "\n",
    "banknote の Length 欄を見てみましょう"
   ]
  },
  {
   "cell_type": "code",
   "execution_count": null,
   "metadata": {
    "vscode": {
     "languageId": "r"
    }
   },
   "outputs": [],
   "source": [
    "# 2.2"
   ]
  },
  {
   "cell_type": "markdown",
   "metadata": {},
   "source": [
    "### 2.3 データの概要を見る\n",
    "\n",
    "データの概要、というのは統計において、標準的な統計量を意味します。\n",
    "これを求める関数をつかって、banknote の概要をみてみましょう。\n",
    "平均、最大値、最小値、中央値、標準偏差を確認しましょう。\n",
    "寸法のばらつきにちて言葉で表現してみましょう。"
   ]
  },
  {
   "cell_type": "code",
   "execution_count": null,
   "metadata": {
    "vscode": {
     "languageId": "r"
    }
   },
   "outputs": [],
   "source": [
    "# 2.3 "
   ]
  },
  {
   "cell_type": "markdown",
   "metadata": {},
   "source": [
    "### 2.4 ヒストグラム\n",
    "ヒストグラムをグラフ化してみましょう。\n",
    "0.5mm おきの度数分布にしてみましょう"
   ]
  },
  {
   "cell_type": "code",
   "execution_count": null,
   "metadata": {
    "vscode": {
     "languageId": "r"
    }
   },
   "outputs": [],
   "source": [
    "# 2.4"
   ]
  },
  {
   "cell_type": "code",
   "execution_count": null,
   "metadata": {
    "vscode": {
     "languageId": "r"
    }
   },
   "outputs": [],
   "source": [
    "# 2.4"
   ]
  },
  {
   "cell_type": "markdown",
   "metadata": {},
   "source": [
    "### 2.5 箱ひげ図をプロットしてみましょう\n",
    "\n",
    "全データの箱ひげ図"
   ]
  },
  {
   "cell_type": "code",
   "execution_count": null,
   "metadata": {
    "vscode": {
     "languageId": "r"
    }
   },
   "outputs": [],
   "source": [
    "# 2.5"
   ]
  },
  {
   "cell_type": "markdown",
   "metadata": {},
   "source": [
    "\n",
    "Genue と counterfeitを別々にした箱ひげ図\n"
   ]
  },
  {
   "cell_type": "code",
   "execution_count": null,
   "metadata": {
    "vscode": {
     "languageId": "r"
    }
   },
   "outputs": [],
   "source": [
    "#2.5\n"
   ]
  },
  {
   "cell_type": "markdown",
   "metadata": {},
   "source": [
    "### 2.6 答え"
   ]
  },
  {
   "cell_type": "code",
   "execution_count": null,
   "metadata": {
    "vscode": {
     "languageId": "r"
    }
   },
   "outputs": [],
   "source": [
    "# 2.1\n",
    "head(banknote2)\n",
    "# 2.2\n",
    "head(banknote2$Length)\n",
    "# 2.3 \n",
    "summary(banknote2$Length)\n",
    "\n",
    "# 2.4\n",
    "hist(banknote2$Length,breaks = seq(213.5,216.5,by = 0.5))\n",
    "#2.5\n",
    "# 箱ひげ図\n",
    "boxplot(banknote2$Length)\n",
    "# Genue \n",
    "boxplot(banknote2$Length[1:100], banknote2$Length[101:200])"
   ]
  },
  {
   "cell_type": "markdown",
   "metadata": {},
   "source": [
    "## 3.練習問題\n",
    "\n",
    "対象：data3-4Banknote2.csv\n",
    "1. genuineを対象とした変数Diagonalの度数分布表を作成する\n",
    "1. counterfeitを対象とした変数Diagonalの度数分布表を作成する\n",
    "1. それぞれの度数分布表に対応したDiagonalのgenuineとcounterfeitのヒストグラムを作成する\n",
    "1. Diagonalのgenuineとcounterfeitの箱ひげ図を作成する\n",
    "\n"
   ]
  },
  {
   "cell_type": "code",
   "execution_count": null,
   "metadata": {
    "vscode": {
     "languageId": "r"
    }
   },
   "outputs": [],
   "source": []
  }
 ],
 "metadata": {
  "kernelspec": {
   "display_name": "R",
   "language": "R",
   "name": "ir"
  },
  "language_info": {
   "codemirror_mode": "r",
   "file_extension": ".r",
   "mimetype": "text/x-r-source",
   "name": "R",
   "pygments_lexer": "r",
   "version": "3.6.1"
  }
 },
 "nbformat": 4,
 "nbformat_minor": 2
}
