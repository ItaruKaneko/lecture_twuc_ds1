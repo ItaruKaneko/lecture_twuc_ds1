{
 "cells": [
  {
   "cell_type": "markdown",
   "metadata": {
    "id": "taitdRLKmGvk"
   },
   "source": [
    "# practice_ds_I_03-01.ipynb\n",
    "# データサイエンスI (第3回)演習ファイル\n",
    "\n",
    "データサイエンスI 第3回 演習用 jupyter note book\n",
    "\n",
    "目的\n",
    "\n",
    "オープンデータを取り込んで散布図を作ってみる。\n",
    "\n",
    "Google colab へのデータの取り込み方を確認する。\n",
    "\n",
    "この演習では、オープンデータを使ってデータの散布図を作成します。\n",
    "\n",
    "使用するオープンデータは、平成28年度「英語教育実施状況調査」です。\n",
    "オープンデータはPDFで公開されていますが、R言語から利用できるようにするため、あらかじめcsvファイルに変換してあるものとします。\n",
    "\n",
    "\n",
    "\n",
    "\n"
   ]
  },
  {
   "cell_type": "markdown",
   "metadata": {
    "id": "TmOt0SbSazh1"
   },
   "source": [
    "# 1 使用するオープンデータ\n",
    "\n",
    "平成28年度「英語教育実施状況調査」について<br/>\n",
    "\n",
    "http://www.mext.go.jp/a_menu/kokusai/gaikokugo/1384230.htm <br/>\n",
    "\n",
    "都道府県別調査結果\n"
   ]
  },
  {
   "cell_type": "markdown",
   "metadata": {
    "id": "E0p0urEjXWmm"
   },
   "source": [
    "#2 Google Colab へのデータのアップロード\n",
    "\n",
    "このデータを以下の手順でgoogle colabにアップロードします。\n",
    "\n",
    "まずこのアイコンをクリックします。\n",
    "\n",
    "![image.png](data:image/png;base64,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)\n",
    "\n",
    "そしてこちらのアイコンをクリックします。\n",
    "\n",
    "![image.png](data:image/png;base64,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)\n",
    "\n",
    "するとアップロードするファイルを選択できます。\n"
   ]
  },
  {
   "cell_type": "code",
   "execution_count": null,
   "metadata": {
    "colab": {
     "base_uri": "https://localhost:8080/"
    },
    "executionInfo": {
     "elapsed": 255,
     "status": "ok",
     "timestamp": 1713715969656,
     "user": {
      "displayName": "KANEKO Itaru",
      "userId": "11836877783899588239"
     },
     "user_tz": -120
    },
    "id": "KjMXIA0_mdJW",
    "outputId": "0f304358-a43d-4bbe-803a-47f5cdb2ae93",
    "vscode": {
     "languageId": "r"
    }
   },
   "outputs": [
    {
     "name": "stdout",
     "output_type": "stream",
     "text": [
      "[1] \"/content\"\n",
      "[1] \"sample_data\"\n"
     ]
    }
   ],
   "source": [
    "# フォルダにファイルがあることを確認する\n",
    "print(getwd())\n",
    "print(list.files())\n"
   ]
  },
  {
   "cell_type": "markdown",
   "metadata": {
    "id": "7tWw5ZeAyPXH"
   },
   "source": [
    "結果が、以下のようになれば成功です。\n",
    "\n",
    "~~~\n",
    "[1] \"/content\"\n",
    "[1] \"sample_data\"  \"table001.csv\" \"table003.csv\"\n",
    "~~~\n",
    "こうならない場合は、ファイルのアップロードができていないので、ファイルのアップロードの方法を別途確認してアップロードしてからこのノートブックを実行してください。"
   ]
  },
  {
   "cell_type": "markdown",
   "metadata": {
    "id": "Wo8U-R-JSJTq"
   },
   "source": [
    "次にこれらのファイルからデータを読み込みます。\n",
    "\n",
    "以下では、csv ファイルを読み込むためのライブラリを準備します。readrというパッケージを使いますが、google colab ではreadrは最初からインストールされているので、ここでインストールする必要はないので、コメントアウトされています(#をつけてコメントとして、実行されないようになっています)\n",
    "\n",
    "Google Colab ではない、たとえば自分のパソコン上のR言語環境で動作させる場合、この2行目のコメントを解除(#を削除)して、readrをインストールしてから続行してください。"
   ]
  },
  {
   "cell_type": "code",
   "execution_count": null,
   "metadata": {
    "id": "IVV4540-tF16",
    "vscode": {
     "languageId": "r"
    }
   },
   "outputs": [],
   "source": [
    "# ヘッダ付きのcsvファイルをライブラリを使って読み込む(google colab では不要?)\n",
    "# install.packages(\"readr\")"
   ]
  },
  {
   "cell_type": "markdown",
   "metadata": {
    "id": "EdagR7VAx1NB"
   },
   "source": [
    "通常は以下のコマンドから初めて大丈夫です。もし以下のコマンドがエラーになったばあいには上のセルの2行目の#を削除して、コメントを解除し、実行してから再度下のセルを実行してください。"
   ]
  },
  {
   "cell_type": "code",
   "execution_count": null,
   "metadata": {
    "id": "e-urktW6zPsN",
    "vscode": {
     "languageId": "r"
    }
   },
   "outputs": [],
   "source": [
    "library(readr)"
   ]
  },
  {
   "cell_type": "markdown",
   "metadata": {
    "id": "gIOXbU-0yIiQ"
   },
   "source": [
    "次に、table001.csvを読み込みます。"
   ]
  },
  {
   "cell_type": "code",
   "execution_count": null,
   "metadata": {
    "id": "37W2dWL6tFHL",
    "vscode": {
     "languageId": "r"
    }
   },
   "outputs": [],
   "source": [
    "# table001.csv を読み込む\n",
    "table001 <- read_csv(\"table001.csv\")\n"
   ]
  },
  {
   "cell_type": "markdown",
   "metadata": {
    "id": "4fffsFc0yv-m"
   },
   "source": [
    "なにやら表示されますがこれはエラーではありません。\n",
    "\n",
    "~~~\n",
    "chr (5): Column1, Column4, Column6, Column8, Column10\n",
    "dbl (2): Column5, Column7\n",
    "num (3): Column2, Column3, Column9\n",
    "~~~\n",
    "これはデータフレームの各カラムがどういうデータ型であったか、という分析結果を示しています。\n"
   ]
  },
  {
   "cell_type": "code",
   "execution_count": null,
   "metadata": {
    "id": "1EL_BlqZvdAw",
    "vscode": {
     "languageId": "r"
    }
   },
   "outputs": [],
   "source": [
    "head(table001)"
   ]
  },
  {
   "cell_type": "code",
   "execution_count": null,
   "metadata": {
    "id": "PAtQeHEOys1n",
    "vscode": {
     "languageId": "r"
    }
   },
   "outputs": [],
   "source": [
    "# table003.csv を読み込みます\n",
    "table003 <- read_csv(\"table003.csv\")"
   ]
  },
  {
   "cell_type": "code",
   "execution_count": null,
   "metadata": {
    "id": "jitubsFbyyZF",
    "vscode": {
     "languageId": "r"
    }
   },
   "outputs": [],
   "source": [
    "head(table003)"
   ]
  },
  {
   "cell_type": "markdown",
   "metadata": {
    "id": "AoIDIUtGzpT0"
   },
   "source": [
    "ここまでで、table001, table003 がきちんと読み込めたことをまず確認しましょう。このようにデータ解析では、必要なデータを成形して計算に使える形にする作業がけっこう手間どります。この部分には人間が判断する要素が多く、なかなか完全に機械が自動的に行えない部分でもあります。\n",
    "\n",
    "確認ができデータが整っているようなら次のステップに進もみましょう。"
   ]
  },
  {
   "cell_type": "markdown",
   "metadata": {
    "id": "FqU3cpaQV52l"
   },
   "source": [
    "table001の10列目は 99% というような%で終わる文字列になっているので、これを数値に変換します。"
   ]
  },
  {
   "cell_type": "code",
   "execution_count": null,
   "metadata": {
    "id": "8H4uYqXHXDr-",
    "vscode": {
     "languageId": "r"
    }
   },
   "outputs": [],
   "source": [
    "table004 <- table001\n",
    "table004[,10] <- as.numeric(gsub(\"%\",\"\",table001[, 10, drop = TRUE]))/100\n",
    "head(table004)\n"
   ]
  },
  {
   "cell_type": "code",
   "execution_count": null,
   "metadata": {
    "id": "xsf0_qTfnSR2",
    "vscode": {
     "languageId": "r"
    }
   },
   "outputs": [],
   "source": [
    "table_4_3 <- merge(table004, table003, by = \"Column1\")\n",
    "head(table_4_3)\n"
   ]
  },
  {
   "cell_type": "markdown",
   "metadata": {
    "id": "WFmeJPwCn4el"
   },
   "source": [
    "では、教員の英語の能力と、生徒の英語の能力を x, y としてグラフ化してみましょう。\n",
    "\n",
    "注意\n",
    "\n",
    "グラフタイトル(main)、xlab, ylab では半角英字しかつかえません。日本語を使うと文字化けしますので使わないように注意してください。"
   ]
  },
  {
   "cell_type": "code",
   "execution_count": null,
   "metadata": {
    "id": "CdUyU-nJoCoU",
    "vscode": {
     "languageId": "r"
    }
   },
   "outputs": [],
   "source": [
    "plot(table_4_3[,10], table_4_3[,19], main=\"Scatter plot of English proficiency between teachers and students\", xlab=\"Teachers\", ylab=\"Students\", pch=19)\n"
   ]
  },
  {
   "cell_type": "markdown",
   "metadata": {
    "id": "iQkgQNkPxTQz"
   },
   "source": [
    "次に回帰直線を書いてみましょう。\n",
    "\n",
    "回帰直線を描くには線形回帰をして、係数と切片をもとめ、それを使って回帰直線を描画します。\n",
    "\n",
    "まず線形回帰と、係数と切片を求めます。"
   ]
  },
  {
   "cell_type": "code",
   "execution_count": null,
   "metadata": {
    "id": "GlA9TUvKuNer",
    "vscode": {
     "languageId": "r"
    }
   },
   "outputs": [],
   "source": [
    "lm_model <- lm(Column10.y ~ Column10.x, data = table_4_3)\n",
    "\n",
    "# 回帰モデルの要約を表示\n",
    "summary(lm_model)\n",
    "\n",
    "# 回帰直線の傾き（係数）と切片を抽出\n",
    "slope <- coef(lm_model)[\"Column10.x\"]\n",
    "intercept <- coef(lm_model)[\"(Intercept)\"]\n",
    "cat('slope=',slope, '  intercept',intercept, '\\n')\n"
   ]
  },
  {
   "cell_type": "markdown",
   "metadata": {
    "id": "Ms4v4UbSxj_G"
   },
   "source": [
    "そして、得られた係数と切片を用いて、以下のようにして散布図と回帰直線を重ねて描画することができます。\n"
   ]
  },
  {
   "cell_type": "code",
   "execution_count": null,
   "metadata": {
    "id": "G-tNuSqfwAze",
    "vscode": {
     "languageId": "r"
    }
   },
   "outputs": [],
   "source": [
    "plot(table_4_3[,10], table_4_3[,19], main=\"Scatter plot of English proficiency between teachers and students\", xlab=\"Teachers\", ylab=\"Students\", pch=19)\n",
    "\n",
    "abline(a=intercept, b=slope, col=\"red\")"
   ]
  }
 ],
 "metadata": {
  "colab": {
   "provenance": []
  },
  "kernelspec": {
   "display_name": "R",
   "language": "R",
   "name": "ir"
  },
  "language_info": {
   "name": "R"
  }
 },
 "nbformat": 4,
 "nbformat_minor": 0
}
