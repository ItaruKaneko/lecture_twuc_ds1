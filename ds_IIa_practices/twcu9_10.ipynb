{
 "cells": [
  {
   "cell_type": "markdown",
   "id": "63a89567",
   "metadata": {},
   "source": [
    "# twcu9_10 主成分分析\n",
    "\n",
    "スライド slide11\n",
    "\n",
    "\n",
    "2022/11/30 の演習資料"
   ]
  },
  {
   "cell_type": "markdown",
   "id": "415784f4",
   "metadata": {},
   "source": [
    "# 1 復習 判別分析"
   ]
  },
  {
   "cell_type": "code",
   "execution_count": 3,
   "id": "b61b221c",
   "metadata": {},
   "outputs": [
    {
     "name": "stderr",
     "output_type": "stream",
     "text": [
      "Warning message:\n",
      "\"package 'mclust' was built under R version 3.6.3\"Package 'mclust' version 5.4.7\n",
      "Type 'citation(\"mclust\")' for citing this R package in publications.\n"
     ]
    }
   ],
   "source": [
    "library(mclust)"
   ]
  },
  {
   "cell_type": "markdown",
   "id": "2b3257a6",
   "metadata": {},
   "source": [
    "## 1.1  データの読み込み\n",
    "page 5\n",
    "banknoteがmclustから読めないのでこの部分はスライドと異なります。"
   ]
  },
  {
   "cell_type": "code",
   "execution_count": 4,
   "id": "a1ca4b8f",
   "metadata": {},
   "outputs": [
    {
     "data": {
      "text/html": [
       "<table>\n",
       "<thead><tr><th scope=col>Status</th><th scope=col>Length</th><th scope=col>Left</th><th scope=col>Right</th><th scope=col>Bottom</th><th scope=col>Top</th><th scope=col>Diagonal</th></tr></thead>\n",
       "<tbody>\n",
       "\t<tr><td>genuine</td><td>214.8  </td><td>131.0  </td><td>131.1  </td><td> 9.0   </td><td> 9.7   </td><td>141.0  </td></tr>\n",
       "\t<tr><td>genuine</td><td>214.6  </td><td>129.7  </td><td>129.7  </td><td> 8.1   </td><td> 9.5   </td><td>141.7  </td></tr>\n",
       "\t<tr><td>genuine</td><td>214.8  </td><td>129.7  </td><td>129.7  </td><td> 8.7   </td><td> 9.6   </td><td>142.2  </td></tr>\n",
       "\t<tr><td>genuine</td><td>214.8  </td><td>129.7  </td><td>129.6  </td><td> 7.5   </td><td>10.4   </td><td>142.0  </td></tr>\n",
       "\t<tr><td>genuine</td><td>215.0  </td><td>129.6  </td><td>129.7  </td><td>10.4   </td><td> 7.7   </td><td>141.8  </td></tr>\n",
       "\t<tr><td>genuine</td><td>215.7  </td><td>130.8  </td><td>130.5  </td><td> 9.0   </td><td>10.1   </td><td>141.4  </td></tr>\n",
       "</tbody>\n",
       "</table>\n"
      ],
      "text/latex": [
       "\\begin{tabular}{r|lllllll}\n",
       " Status & Length & Left & Right & Bottom & Top & Diagonal\\\\\n",
       "\\hline\n",
       "\t genuine & 214.8   & 131.0   & 131.1   &  9.0    &  9.7    & 141.0  \\\\\n",
       "\t genuine & 214.6   & 129.7   & 129.7   &  8.1    &  9.5    & 141.7  \\\\\n",
       "\t genuine & 214.8   & 129.7   & 129.7   &  8.7    &  9.6    & 142.2  \\\\\n",
       "\t genuine & 214.8   & 129.7   & 129.6   &  7.5    & 10.4    & 142.0  \\\\\n",
       "\t genuine & 215.0   & 129.6   & 129.7   & 10.4    &  7.7    & 141.8  \\\\\n",
       "\t genuine & 215.7   & 130.8   & 130.5   &  9.0    & 10.1    & 141.4  \\\\\n",
       "\\end{tabular}\n"
      ],
      "text/markdown": [
       "\n",
       "| Status | Length | Left | Right | Bottom | Top | Diagonal |\n",
       "|---|---|---|---|---|---|---|\n",
       "| genuine | 214.8   | 131.0   | 131.1   |  9.0    |  9.7    | 141.0   |\n",
       "| genuine | 214.6   | 129.7   | 129.7   |  8.1    |  9.5    | 141.7   |\n",
       "| genuine | 214.8   | 129.7   | 129.7   |  8.7    |  9.6    | 142.2   |\n",
       "| genuine | 214.8   | 129.7   | 129.6   |  7.5    | 10.4    | 142.0   |\n",
       "| genuine | 215.0   | 129.6   | 129.7   | 10.4    |  7.7    | 141.8   |\n",
       "| genuine | 215.7   | 130.8   | 130.5   |  9.0    | 10.1    | 141.4   |\n",
       "\n"
      ],
      "text/plain": [
       "  Status  Length Left  Right Bottom Top  Diagonal\n",
       "1 genuine 214.8  131.0 131.1  9.0    9.7 141.0   \n",
       "2 genuine 214.6  129.7 129.7  8.1    9.5 141.7   \n",
       "3 genuine 214.8  129.7 129.7  8.7    9.6 142.2   \n",
       "4 genuine 214.8  129.7 129.6  7.5   10.4 142.0   \n",
       "5 genuine 215.0  129.6 129.7 10.4    7.7 141.8   \n",
       "6 genuine 215.7  130.8 130.5  9.0   10.1 141.4   "
      ]
     },
     "metadata": {},
     "output_type": "display_data"
    }
   ],
   "source": [
    "#  データの呼び出し\n",
    "banknote= read.table('banknote.txt', sep = ' ', header=TRUE )\n",
    "head(banknote)"
   ]
  },
  {
   "cell_type": "markdown",
   "id": "c933629d",
   "metadata": {},
   "source": [
    "## 1.2 ホールドアウト検証のための bn.train, bn.test の作成\n",
    "page 6"
   ]
  },
  {
   "cell_type": "code",
   "execution_count": 9,
   "id": "e5287605",
   "metadata": {},
   "outputs": [
    {
     "data": {
      "text/html": [
       "<table>\n",
       "<thead><tr><th></th><th scope=col>Status</th><th scope=col>Length</th><th scope=col>Left</th><th scope=col>Right</th><th scope=col>Bottom</th><th scope=col>Top</th><th scope=col>Diagonal</th></tr></thead>\n",
       "<tbody>\n",
       "\t<tr><th scope=row>1</th><td>genuine</td><td>214.8  </td><td>131.0  </td><td>131.1  </td><td> 9.0   </td><td> 9.7   </td><td>141.0  </td></tr>\n",
       "\t<tr><th scope=row>2</th><td>genuine</td><td>214.6  </td><td>129.7  </td><td>129.7  </td><td> 8.1   </td><td> 9.5   </td><td>141.7  </td></tr>\n",
       "\t<tr><th scope=row>3</th><td>genuine</td><td>214.8  </td><td>129.7  </td><td>129.7  </td><td> 8.7   </td><td> 9.6   </td><td>142.2  </td></tr>\n",
       "\t<tr><th scope=row>5</th><td>genuine</td><td>215.0  </td><td>129.6  </td><td>129.7  </td><td>10.4   </td><td> 7.7   </td><td>141.8  </td></tr>\n",
       "\t<tr><th scope=row>6</th><td>genuine</td><td>215.7  </td><td>130.8  </td><td>130.5  </td><td> 9.0   </td><td>10.1   </td><td>141.4  </td></tr>\n",
       "\t<tr><th scope=row>7</th><td>genuine</td><td>215.5  </td><td>129.5  </td><td>129.7  </td><td> 7.9   </td><td> 9.6   </td><td>141.6  </td></tr>\n",
       "</tbody>\n",
       "</table>\n"
      ],
      "text/latex": [
       "\\begin{tabular}{r|lllllll}\n",
       "  & Status & Length & Left & Right & Bottom & Top & Diagonal\\\\\n",
       "\\hline\n",
       "\t1 & genuine & 214.8   & 131.0   & 131.1   &  9.0    &  9.7    & 141.0  \\\\\n",
       "\t2 & genuine & 214.6   & 129.7   & 129.7   &  8.1    &  9.5    & 141.7  \\\\\n",
       "\t3 & genuine & 214.8   & 129.7   & 129.7   &  8.7    &  9.6    & 142.2  \\\\\n",
       "\t5 & genuine & 215.0   & 129.6   & 129.7   & 10.4    &  7.7    & 141.8  \\\\\n",
       "\t6 & genuine & 215.7   & 130.8   & 130.5   &  9.0    & 10.1    & 141.4  \\\\\n",
       "\t7 & genuine & 215.5   & 129.5   & 129.7   &  7.9    &  9.6    & 141.6  \\\\\n",
       "\\end{tabular}\n"
      ],
      "text/markdown": [
       "\n",
       "| <!--/--> | Status | Length | Left | Right | Bottom | Top | Diagonal |\n",
       "|---|---|---|---|---|---|---|---|\n",
       "| 1 | genuine | 214.8   | 131.0   | 131.1   |  9.0    |  9.7    | 141.0   |\n",
       "| 2 | genuine | 214.6   | 129.7   | 129.7   |  8.1    |  9.5    | 141.7   |\n",
       "| 3 | genuine | 214.8   | 129.7   | 129.7   |  8.7    |  9.6    | 142.2   |\n",
       "| 5 | genuine | 215.0   | 129.6   | 129.7   | 10.4    |  7.7    | 141.8   |\n",
       "| 6 | genuine | 215.7   | 130.8   | 130.5   |  9.0    | 10.1    | 141.4   |\n",
       "| 7 | genuine | 215.5   | 129.5   | 129.7   |  7.9    |  9.6    | 141.6   |\n",
       "\n"
      ],
      "text/plain": [
       "  Status  Length Left  Right Bottom Top  Diagonal\n",
       "1 genuine 214.8  131.0 131.1  9.0    9.7 141.0   \n",
       "2 genuine 214.6  129.7 129.7  8.1    9.5 141.7   \n",
       "3 genuine 214.8  129.7 129.7  8.7    9.6 142.2   \n",
       "5 genuine 215.0  129.6 129.7 10.4    7.7 141.8   \n",
       "6 genuine 215.7  130.8 130.5  9.0   10.1 141.4   \n",
       "7 genuine 215.5  129.5 129.7  7.9    9.6 141.6   "
      ]
     },
     "metadata": {},
     "output_type": "display_data"
    },
    {
     "data": {
      "text/html": [
       "<table>\n",
       "<thead><tr><th></th><th scope=col>Status</th><th scope=col>Length</th><th scope=col>Left</th><th scope=col>Right</th><th scope=col>Bottom</th><th scope=col>Top</th><th scope=col>Diagonal</th></tr></thead>\n",
       "<tbody>\n",
       "\t<tr><th scope=row>4</th><td>genuine</td><td>214.8  </td><td>129.7  </td><td>129.6  </td><td>7.5    </td><td>10.4   </td><td>142.0  </td></tr>\n",
       "\t<tr><th scope=row>8</th><td>genuine</td><td>214.5  </td><td>129.6  </td><td>129.2  </td><td>7.2    </td><td>10.7   </td><td>141.7  </td></tr>\n",
       "\t<tr><th scope=row>12</th><td>genuine</td><td>215.1  </td><td>129.5  </td><td>129.6  </td><td>7.7    </td><td>10.5   </td><td>142.2  </td></tr>\n",
       "\t<tr><th scope=row>16</th><td>genuine</td><td>214.5  </td><td>129.8  </td><td>129.8  </td><td>9.3    </td><td> 8.5   </td><td>141.6  </td></tr>\n",
       "\t<tr><th scope=row>20</th><td>genuine</td><td>214.7  </td><td>130.2  </td><td>129.9  </td><td>8.6    </td><td>10.0   </td><td>141.9  </td></tr>\n",
       "\t<tr><th scope=row>24</th><td>genuine</td><td>215.7  </td><td>130.2  </td><td>130.0  </td><td>8.7    </td><td>10.0   </td><td>141.6  </td></tr>\n",
       "</tbody>\n",
       "</table>\n"
      ],
      "text/latex": [
       "\\begin{tabular}{r|lllllll}\n",
       "  & Status & Length & Left & Right & Bottom & Top & Diagonal\\\\\n",
       "\\hline\n",
       "\t4 & genuine & 214.8   & 129.7   & 129.6   & 7.5     & 10.4    & 142.0  \\\\\n",
       "\t8 & genuine & 214.5   & 129.6   & 129.2   & 7.2     & 10.7    & 141.7  \\\\\n",
       "\t12 & genuine & 215.1   & 129.5   & 129.6   & 7.7     & 10.5    & 142.2  \\\\\n",
       "\t16 & genuine & 214.5   & 129.8   & 129.8   & 9.3     &  8.5    & 141.6  \\\\\n",
       "\t20 & genuine & 214.7   & 130.2   & 129.9   & 8.6     & 10.0    & 141.9  \\\\\n",
       "\t24 & genuine & 215.7   & 130.2   & 130.0   & 8.7     & 10.0    & 141.6  \\\\\n",
       "\\end{tabular}\n"
      ],
      "text/markdown": [
       "\n",
       "| <!--/--> | Status | Length | Left | Right | Bottom | Top | Diagonal |\n",
       "|---|---|---|---|---|---|---|---|\n",
       "| 4 | genuine | 214.8   | 129.7   | 129.6   | 7.5     | 10.4    | 142.0   |\n",
       "| 8 | genuine | 214.5   | 129.6   | 129.2   | 7.2     | 10.7    | 141.7   |\n",
       "| 12 | genuine | 215.1   | 129.5   | 129.6   | 7.7     | 10.5    | 142.2   |\n",
       "| 16 | genuine | 214.5   | 129.8   | 129.8   | 9.3     |  8.5    | 141.6   |\n",
       "| 20 | genuine | 214.7   | 130.2   | 129.9   | 8.6     | 10.0    | 141.9   |\n",
       "| 24 | genuine | 215.7   | 130.2   | 130.0   | 8.7     | 10.0    | 141.6   |\n",
       "\n"
      ],
      "text/plain": [
       "   Status  Length Left  Right Bottom Top  Diagonal\n",
       "4  genuine 214.8  129.7 129.6 7.5    10.4 142.0   \n",
       "8  genuine 214.5  129.6 129.2 7.2    10.7 141.7   \n",
       "12 genuine 215.1  129.5 129.6 7.7    10.5 142.2   \n",
       "16 genuine 214.5  129.8 129.8 9.3     8.5 141.6   \n",
       "20 genuine 214.7  130.2 129.9 8.6    10.0 141.9   \n",
       "24 genuine 215.7  130.2 130.0 8.7    10.0 141.6   "
      ]
     },
     "metadata": {},
     "output_type": "display_data"
    }
   ],
   "source": [
    "#  データの分割（ホールドアウト検証）\n",
    "x <- seq( 4, 200, by = 4 )  # 4の倍数\n",
    "bn.test <- banknote[ x,  ]\n",
    "bn.train <- banknote[ -x,  ]\n",
    "head(bn.train)\n",
    "head(bn.test)"
   ]
  },
  {
   "cell_type": "markdown",
   "id": "b3038a0b",
   "metadata": {},
   "source": [
    "## 1.3 線形判別分析\n",
    "page 7"
   ]
  },
  {
   "cell_type": "code",
   "execution_count": 10,
   "id": "ff3f4bae",
   "metadata": {},
   "outputs": [
    {
     "data": {
      "text/plain": [
       "Call:\n",
       "lda(Status ~ Length + Bottom + Top, data = bn.train)\n",
       "\n",
       "Prior probabilities of groups:\n",
       "counterfeit     genuine \n",
       "        0.5         0.5 \n",
       "\n",
       "Group means:\n",
       "              Length    Bottom      Top\n",
       "counterfeit 214.8067 10.566667 11.12267\n",
       "genuine     214.9973  8.266667 10.22800\n",
       "\n",
       "Coefficients of linear discriminants:\n",
       "              LD1\n",
       "Length  0.4085213\n",
       "Bottom -1.3893775\n",
       "Top    -1.6223340"
      ]
     },
     "metadata": {},
     "output_type": "display_data"
    }
   ],
   "source": [
    "#  ロジスティック回帰の実行\n",
    "#  分析の実行\n",
    "library( MASS )\n",
    "res.lda <- lda( Status ~ Length + Bottom + Top, data = bn.train )\n",
    "#  結果の出力\n",
    "res.lda\n"
   ]
  },
  {
   "attachments": {},
   "cell_type": "markdown",
   "id": "52f58b68",
   "metadata": {},
   "source": [
    "## 1.4 線形判別分析を行う場合\n",
    "page 8"
   ]
  },
  {
   "cell_type": "code",
   "execution_count": 11,
   "id": "c1854ac3",
   "metadata": {},
   "outputs": [
    {
     "data": {
      "text/html": [
       "<strong>LD1:</strong> -57.3897780520131"
      ],
      "text/latex": [
       "\\textbf{LD1:} -57.3897780520131"
      ],
      "text/markdown": [
       "**LD1:** -57.3897780520131"
      ],
      "text/plain": [
       "      LD1 \n",
       "-57.38978 "
      ]
     },
     "metadata": {},
     "output_type": "display_data"
    }
   ],
   "source": [
    "b <- -1 * apply( res.lda$mean %*% res.lda$scaling, 2, mean )\n",
    "b"
   ]
  },
  {
   "cell_type": "code",
   "execution_count": 12,
   "id": "c25b0d6a",
   "metadata": {},
   "outputs": [
    {
     "data": {
      "text/plain": [
       "             \n",
       "              counterfeit genuine\n",
       "  counterfeit          23       2\n",
       "  genuine               0      25"
      ]
     },
     "metadata": {},
     "output_type": "display_data"
    }
   ],
   "source": [
    "#  ホールドアウト検証によるモデル評価（混同行列の作成）\n",
    "pred.lda <- predict( res.lda, bn.test )\n",
    "table( bn.test$Status ,  pred.lda$class )\n",
    "\n"
   ]
  },
  {
   "cell_type": "code",
   "execution_count": null,
   "id": "a6d1fc29",
   "metadata": {},
   "outputs": [],
   "source": [
    "#  誤判別率の計算\n",
    "2 / 50"
   ]
  },
  {
   "attachments": {},
   "cell_type": "markdown",
   "id": "5ad0afd9",
   "metadata": {},
   "source": [
    "## 1.5 スイス紙幣の真贋データの分析例\n",
    "page 9"
   ]
  },
  {
   "cell_type": "code",
   "execution_count": 14,
   "id": "f3f91bf4",
   "metadata": {},
   "outputs": [
    {
     "data": {
      "text/html": [
       "<ol class=list-inline>\n",
       "\t<li>genuine</li>\n",
       "\t<li>genuine</li>\n",
       "\t<li>genuine</li>\n",
       "\t<li>genuine</li>\n",
       "\t<li>genuine</li>\n",
       "\t<li>genuine</li>\n",
       "\t<li>genuine</li>\n",
       "\t<li>genuine</li>\n",
       "\t<li>genuine</li>\n",
       "\t<li>genuine</li>\n",
       "\t<li>genuine</li>\n",
       "\t<li>genuine</li>\n",
       "\t<li>genuine</li>\n",
       "\t<li>genuine</li>\n",
       "\t<li>genuine</li>\n",
       "\t<li>genuine</li>\n",
       "\t<li>genuine</li>\n",
       "\t<li>genuine</li>\n",
       "\t<li>genuine</li>\n",
       "\t<li>genuine</li>\n",
       "\t<li>genuine</li>\n",
       "\t<li>genuine</li>\n",
       "\t<li>genuine</li>\n",
       "\t<li>genuine</li>\n",
       "\t<li>genuine</li>\n",
       "\t<li>genuine</li>\n",
       "\t<li>genuine</li>\n",
       "\t<li>genuine</li>\n",
       "\t<li>genuine</li>\n",
       "\t<li>genuine</li>\n",
       "\t<li>genuine</li>\n",
       "\t<li>genuine</li>\n",
       "\t<li>genuine</li>\n",
       "\t<li>genuine</li>\n",
       "\t<li>genuine</li>\n",
       "\t<li>genuine</li>\n",
       "\t<li>genuine</li>\n",
       "\t<li>genuine</li>\n",
       "\t<li>genuine</li>\n",
       "\t<li>genuine</li>\n",
       "\t<li>genuine</li>\n",
       "\t<li>genuine</li>\n",
       "\t<li>genuine</li>\n",
       "\t<li>genuine</li>\n",
       "\t<li>genuine</li>\n",
       "\t<li>genuine</li>\n",
       "\t<li>genuine</li>\n",
       "\t<li>genuine</li>\n",
       "\t<li>genuine</li>\n",
       "\t<li>genuine</li>\n",
       "\t<li>genuine</li>\n",
       "\t<li>genuine</li>\n",
       "\t<li>genuine</li>\n",
       "\t<li>genuine</li>\n",
       "\t<li>genuine</li>\n",
       "\t<li>genuine</li>\n",
       "\t<li>genuine</li>\n",
       "\t<li>genuine</li>\n",
       "\t<li>genuine</li>\n",
       "\t<li>genuine</li>\n",
       "\t<li>genuine</li>\n",
       "\t<li>genuine</li>\n",
       "\t<li>genuine</li>\n",
       "\t<li>genuine</li>\n",
       "\t<li>genuine</li>\n",
       "\t<li>genuine</li>\n",
       "\t<li>genuine</li>\n",
       "\t<li>genuine</li>\n",
       "\t<li>genuine</li>\n",
       "\t<li>genuine</li>\n",
       "\t<li>genuine</li>\n",
       "\t<li>genuine</li>\n",
       "\t<li>genuine</li>\n",
       "\t<li>genuine</li>\n",
       "\t<li>genuine</li>\n",
       "\t<li>genuine</li>\n",
       "\t<li>genuine</li>\n",
       "\t<li>genuine</li>\n",
       "\t<li>genuine</li>\n",
       "\t<li>genuine</li>\n",
       "\t<li>genuine</li>\n",
       "\t<li>genuine</li>\n",
       "\t<li>genuine</li>\n",
       "\t<li>genuine</li>\n",
       "\t<li>counterfeit</li>\n",
       "\t<li>genuine</li>\n",
       "\t<li>genuine</li>\n",
       "\t<li>genuine</li>\n",
       "\t<li>genuine</li>\n",
       "\t<li>genuine</li>\n",
       "\t<li>genuine</li>\n",
       "\t<li>genuine</li>\n",
       "\t<li>genuine</li>\n",
       "\t<li>genuine</li>\n",
       "\t<li>genuine</li>\n",
       "\t<li>genuine</li>\n",
       "\t<li>genuine</li>\n",
       "\t<li>genuine</li>\n",
       "\t<li>genuine</li>\n",
       "\t<li>genuine</li>\n",
       "\t<li>counterfeit</li>\n",
       "\t<li>counterfeit</li>\n",
       "\t<li>counterfeit</li>\n",
       "\t<li>counterfeit</li>\n",
       "\t<li>counterfeit</li>\n",
       "\t<li>counterfeit</li>\n",
       "\t<li>counterfeit</li>\n",
       "\t<li>counterfeit</li>\n",
       "\t<li>counterfeit</li>\n",
       "\t<li>counterfeit</li>\n",
       "\t<li>genuine</li>\n",
       "\t<li>counterfeit</li>\n",
       "\t<li>counterfeit</li>\n",
       "\t<li>counterfeit</li>\n",
       "\t<li>counterfeit</li>\n",
       "\t<li>genuine</li>\n",
       "\t<li>counterfeit</li>\n",
       "\t<li>counterfeit</li>\n",
       "\t<li>counterfeit</li>\n",
       "\t<li>counterfeit</li>\n",
       "\t<li>counterfeit</li>\n",
       "\t<li>counterfeit</li>\n",
       "\t<li>counterfeit</li>\n",
       "\t<li>counterfeit</li>\n",
       "\t<li>counterfeit</li>\n",
       "\t<li>counterfeit</li>\n",
       "\t<li>counterfeit</li>\n",
       "\t<li>counterfeit</li>\n",
       "\t<li>counterfeit</li>\n",
       "\t<li>counterfeit</li>\n",
       "\t<li>counterfeit</li>\n",
       "\t<li>counterfeit</li>\n",
       "\t<li>counterfeit</li>\n",
       "\t<li>counterfeit</li>\n",
       "\t<li>counterfeit</li>\n",
       "\t<li>counterfeit</li>\n",
       "\t<li>counterfeit</li>\n",
       "\t<li>counterfeit</li>\n",
       "\t<li>counterfeit</li>\n",
       "\t<li>counterfeit</li>\n",
       "\t<li>counterfeit</li>\n",
       "\t<li>counterfeit</li>\n",
       "\t<li>counterfeit</li>\n",
       "\t<li>counterfeit</li>\n",
       "\t<li>counterfeit</li>\n",
       "\t<li>counterfeit</li>\n",
       "\t<li>counterfeit</li>\n",
       "\t<li>counterfeit</li>\n",
       "\t<li>counterfeit</li>\n",
       "\t<li>counterfeit</li>\n",
       "\t<li>counterfeit</li>\n",
       "\t<li>counterfeit</li>\n",
       "\t<li>counterfeit</li>\n",
       "\t<li>counterfeit</li>\n",
       "\t<li>counterfeit</li>\n",
       "\t<li>counterfeit</li>\n",
       "\t<li>counterfeit</li>\n",
       "\t<li>counterfeit</li>\n",
       "\t<li>counterfeit</li>\n",
       "\t<li>counterfeit</li>\n",
       "\t<li>genuine</li>\n",
       "\t<li>genuine</li>\n",
       "\t<li>counterfeit</li>\n",
       "\t<li>counterfeit</li>\n",
       "\t<li>counterfeit</li>\n",
       "\t<li>counterfeit</li>\n",
       "\t<li>genuine</li>\n",
       "\t<li>counterfeit</li>\n",
       "\t<li>counterfeit</li>\n",
       "\t<li>counterfeit</li>\n",
       "\t<li>counterfeit</li>\n",
       "\t<li>counterfeit</li>\n",
       "\t<li>counterfeit</li>\n",
       "\t<li>counterfeit</li>\n",
       "\t<li>counterfeit</li>\n",
       "\t<li>counterfeit</li>\n",
       "\t<li>counterfeit</li>\n",
       "\t<li>counterfeit</li>\n",
       "\t<li>counterfeit</li>\n",
       "\t<li>counterfeit</li>\n",
       "\t<li>counterfeit</li>\n",
       "\t<li>genuine</li>\n",
       "\t<li>counterfeit</li>\n",
       "\t<li>counterfeit</li>\n",
       "\t<li>counterfeit</li>\n",
       "\t<li>counterfeit</li>\n",
       "\t<li>counterfeit</li>\n",
       "\t<li>counterfeit</li>\n",
       "\t<li>counterfeit</li>\n",
       "\t<li>counterfeit</li>\n",
       "\t<li>counterfeit</li>\n",
       "\t<li>genuine</li>\n",
       "\t<li>counterfeit</li>\n",
       "\t<li>counterfeit</li>\n",
       "\t<li>counterfeit</li>\n",
       "\t<li>counterfeit</li>\n",
       "\t<li>counterfeit</li>\n",
       "\t<li>counterfeit</li>\n",
       "\t<li>counterfeit</li>\n",
       "\t<li>counterfeit</li>\n",
       "</ol>\n",
       "\n",
       "<details>\n",
       "\t<summary style=display:list-item;cursor:pointer>\n",
       "\t\t<strong>Levels</strong>:\n",
       "\t</summary>\n",
       "\t<ol class=list-inline>\n",
       "\t\t<li>'counterfeit'</li>\n",
       "\t\t<li>'genuine'</li>\n",
       "\t</ol>\n",
       "</details>"
      ],
      "text/latex": [
       "\\begin{enumerate*}\n",
       "\\item genuine\n",
       "\\item genuine\n",
       "\\item genuine\n",
       "\\item genuine\n",
       "\\item genuine\n",
       "\\item genuine\n",
       "\\item genuine\n",
       "\\item genuine\n",
       "\\item genuine\n",
       "\\item genuine\n",
       "\\item genuine\n",
       "\\item genuine\n",
       "\\item genuine\n",
       "\\item genuine\n",
       "\\item genuine\n",
       "\\item genuine\n",
       "\\item genuine\n",
       "\\item genuine\n",
       "\\item genuine\n",
       "\\item genuine\n",
       "\\item genuine\n",
       "\\item genuine\n",
       "\\item genuine\n",
       "\\item genuine\n",
       "\\item genuine\n",
       "\\item genuine\n",
       "\\item genuine\n",
       "\\item genuine\n",
       "\\item genuine\n",
       "\\item genuine\n",
       "\\item genuine\n",
       "\\item genuine\n",
       "\\item genuine\n",
       "\\item genuine\n",
       "\\item genuine\n",
       "\\item genuine\n",
       "\\item genuine\n",
       "\\item genuine\n",
       "\\item genuine\n",
       "\\item genuine\n",
       "\\item genuine\n",
       "\\item genuine\n",
       "\\item genuine\n",
       "\\item genuine\n",
       "\\item genuine\n",
       "\\item genuine\n",
       "\\item genuine\n",
       "\\item genuine\n",
       "\\item genuine\n",
       "\\item genuine\n",
       "\\item genuine\n",
       "\\item genuine\n",
       "\\item genuine\n",
       "\\item genuine\n",
       "\\item genuine\n",
       "\\item genuine\n",
       "\\item genuine\n",
       "\\item genuine\n",
       "\\item genuine\n",
       "\\item genuine\n",
       "\\item genuine\n",
       "\\item genuine\n",
       "\\item genuine\n",
       "\\item genuine\n",
       "\\item genuine\n",
       "\\item genuine\n",
       "\\item genuine\n",
       "\\item genuine\n",
       "\\item genuine\n",
       "\\item genuine\n",
       "\\item genuine\n",
       "\\item genuine\n",
       "\\item genuine\n",
       "\\item genuine\n",
       "\\item genuine\n",
       "\\item genuine\n",
       "\\item genuine\n",
       "\\item genuine\n",
       "\\item genuine\n",
       "\\item genuine\n",
       "\\item genuine\n",
       "\\item genuine\n",
       "\\item genuine\n",
       "\\item genuine\n",
       "\\item counterfeit\n",
       "\\item genuine\n",
       "\\item genuine\n",
       "\\item genuine\n",
       "\\item genuine\n",
       "\\item genuine\n",
       "\\item genuine\n",
       "\\item genuine\n",
       "\\item genuine\n",
       "\\item genuine\n",
       "\\item genuine\n",
       "\\item genuine\n",
       "\\item genuine\n",
       "\\item genuine\n",
       "\\item genuine\n",
       "\\item genuine\n",
       "\\item counterfeit\n",
       "\\item counterfeit\n",
       "\\item counterfeit\n",
       "\\item counterfeit\n",
       "\\item counterfeit\n",
       "\\item counterfeit\n",
       "\\item counterfeit\n",
       "\\item counterfeit\n",
       "\\item counterfeit\n",
       "\\item counterfeit\n",
       "\\item genuine\n",
       "\\item counterfeit\n",
       "\\item counterfeit\n",
       "\\item counterfeit\n",
       "\\item counterfeit\n",
       "\\item genuine\n",
       "\\item counterfeit\n",
       "\\item counterfeit\n",
       "\\item counterfeit\n",
       "\\item counterfeit\n",
       "\\item counterfeit\n",
       "\\item counterfeit\n",
       "\\item counterfeit\n",
       "\\item counterfeit\n",
       "\\item counterfeit\n",
       "\\item counterfeit\n",
       "\\item counterfeit\n",
       "\\item counterfeit\n",
       "\\item counterfeit\n",
       "\\item counterfeit\n",
       "\\item counterfeit\n",
       "\\item counterfeit\n",
       "\\item counterfeit\n",
       "\\item counterfeit\n",
       "\\item counterfeit\n",
       "\\item counterfeit\n",
       "\\item counterfeit\n",
       "\\item counterfeit\n",
       "\\item counterfeit\n",
       "\\item counterfeit\n",
       "\\item counterfeit\n",
       "\\item counterfeit\n",
       "\\item counterfeit\n",
       "\\item counterfeit\n",
       "\\item counterfeit\n",
       "\\item counterfeit\n",
       "\\item counterfeit\n",
       "\\item counterfeit\n",
       "\\item counterfeit\n",
       "\\item counterfeit\n",
       "\\item counterfeit\n",
       "\\item counterfeit\n",
       "\\item counterfeit\n",
       "\\item counterfeit\n",
       "\\item counterfeit\n",
       "\\item counterfeit\n",
       "\\item counterfeit\n",
       "\\item counterfeit\n",
       "\\item counterfeit\n",
       "\\item counterfeit\n",
       "\\item genuine\n",
       "\\item genuine\n",
       "\\item counterfeit\n",
       "\\item counterfeit\n",
       "\\item counterfeit\n",
       "\\item counterfeit\n",
       "\\item genuine\n",
       "\\item counterfeit\n",
       "\\item counterfeit\n",
       "\\item counterfeit\n",
       "\\item counterfeit\n",
       "\\item counterfeit\n",
       "\\item counterfeit\n",
       "\\item counterfeit\n",
       "\\item counterfeit\n",
       "\\item counterfeit\n",
       "\\item counterfeit\n",
       "\\item counterfeit\n",
       "\\item counterfeit\n",
       "\\item counterfeit\n",
       "\\item counterfeit\n",
       "\\item genuine\n",
       "\\item counterfeit\n",
       "\\item counterfeit\n",
       "\\item counterfeit\n",
       "\\item counterfeit\n",
       "\\item counterfeit\n",
       "\\item counterfeit\n",
       "\\item counterfeit\n",
       "\\item counterfeit\n",
       "\\item counterfeit\n",
       "\\item genuine\n",
       "\\item counterfeit\n",
       "\\item counterfeit\n",
       "\\item counterfeit\n",
       "\\item counterfeit\n",
       "\\item counterfeit\n",
       "\\item counterfeit\n",
       "\\item counterfeit\n",
       "\\item counterfeit\n",
       "\\end{enumerate*}\n",
       "\n",
       "\\emph{Levels}: \\begin{enumerate*}\n",
       "\\item 'counterfeit'\n",
       "\\item 'genuine'\n",
       "\\end{enumerate*}\n"
      ],
      "text/markdown": [
       "1. genuine\n",
       "2. genuine\n",
       "3. genuine\n",
       "4. genuine\n",
       "5. genuine\n",
       "6. genuine\n",
       "7. genuine\n",
       "8. genuine\n",
       "9. genuine\n",
       "10. genuine\n",
       "11. genuine\n",
       "12. genuine\n",
       "13. genuine\n",
       "14. genuine\n",
       "15. genuine\n",
       "16. genuine\n",
       "17. genuine\n",
       "18. genuine\n",
       "19. genuine\n",
       "20. genuine\n",
       "21. genuine\n",
       "22. genuine\n",
       "23. genuine\n",
       "24. genuine\n",
       "25. genuine\n",
       "26. genuine\n",
       "27. genuine\n",
       "28. genuine\n",
       "29. genuine\n",
       "30. genuine\n",
       "31. genuine\n",
       "32. genuine\n",
       "33. genuine\n",
       "34. genuine\n",
       "35. genuine\n",
       "36. genuine\n",
       "37. genuine\n",
       "38. genuine\n",
       "39. genuine\n",
       "40. genuine\n",
       "41. genuine\n",
       "42. genuine\n",
       "43. genuine\n",
       "44. genuine\n",
       "45. genuine\n",
       "46. genuine\n",
       "47. genuine\n",
       "48. genuine\n",
       "49. genuine\n",
       "50. genuine\n",
       "51. genuine\n",
       "52. genuine\n",
       "53. genuine\n",
       "54. genuine\n",
       "55. genuine\n",
       "56. genuine\n",
       "57. genuine\n",
       "58. genuine\n",
       "59. genuine\n",
       "60. genuine\n",
       "61. genuine\n",
       "62. genuine\n",
       "63. genuine\n",
       "64. genuine\n",
       "65. genuine\n",
       "66. genuine\n",
       "67. genuine\n",
       "68. genuine\n",
       "69. genuine\n",
       "70. genuine\n",
       "71. genuine\n",
       "72. genuine\n",
       "73. genuine\n",
       "74. genuine\n",
       "75. genuine\n",
       "76. genuine\n",
       "77. genuine\n",
       "78. genuine\n",
       "79. genuine\n",
       "80. genuine\n",
       "81. genuine\n",
       "82. genuine\n",
       "83. genuine\n",
       "84. genuine\n",
       "85. counterfeit\n",
       "86. genuine\n",
       "87. genuine\n",
       "88. genuine\n",
       "89. genuine\n",
       "90. genuine\n",
       "91. genuine\n",
       "92. genuine\n",
       "93. genuine\n",
       "94. genuine\n",
       "95. genuine\n",
       "96. genuine\n",
       "97. genuine\n",
       "98. genuine\n",
       "99. genuine\n",
       "100. genuine\n",
       "101. counterfeit\n",
       "102. counterfeit\n",
       "103. counterfeit\n",
       "104. counterfeit\n",
       "105. counterfeit\n",
       "106. counterfeit\n",
       "107. counterfeit\n",
       "108. counterfeit\n",
       "109. counterfeit\n",
       "110. counterfeit\n",
       "111. genuine\n",
       "112. counterfeit\n",
       "113. counterfeit\n",
       "114. counterfeit\n",
       "115. counterfeit\n",
       "116. genuine\n",
       "117. counterfeit\n",
       "118. counterfeit\n",
       "119. counterfeit\n",
       "120. counterfeit\n",
       "121. counterfeit\n",
       "122. counterfeit\n",
       "123. counterfeit\n",
       "124. counterfeit\n",
       "125. counterfeit\n",
       "126. counterfeit\n",
       "127. counterfeit\n",
       "128. counterfeit\n",
       "129. counterfeit\n",
       "130. counterfeit\n",
       "131. counterfeit\n",
       "132. counterfeit\n",
       "133. counterfeit\n",
       "134. counterfeit\n",
       "135. counterfeit\n",
       "136. counterfeit\n",
       "137. counterfeit\n",
       "138. counterfeit\n",
       "139. counterfeit\n",
       "140. counterfeit\n",
       "141. counterfeit\n",
       "142. counterfeit\n",
       "143. counterfeit\n",
       "144. counterfeit\n",
       "145. counterfeit\n",
       "146. counterfeit\n",
       "147. counterfeit\n",
       "148. counterfeit\n",
       "149. counterfeit\n",
       "150. counterfeit\n",
       "151. counterfeit\n",
       "152. counterfeit\n",
       "153. counterfeit\n",
       "154. counterfeit\n",
       "155. counterfeit\n",
       "156. counterfeit\n",
       "157. counterfeit\n",
       "158. counterfeit\n",
       "159. counterfeit\n",
       "160. counterfeit\n",
       "161. genuine\n",
       "162. genuine\n",
       "163. counterfeit\n",
       "164. counterfeit\n",
       "165. counterfeit\n",
       "166. counterfeit\n",
       "167. genuine\n",
       "168. counterfeit\n",
       "169. counterfeit\n",
       "170. counterfeit\n",
       "171. counterfeit\n",
       "172. counterfeit\n",
       "173. counterfeit\n",
       "174. counterfeit\n",
       "175. counterfeit\n",
       "176. counterfeit\n",
       "177. counterfeit\n",
       "178. counterfeit\n",
       "179. counterfeit\n",
       "180. counterfeit\n",
       "181. counterfeit\n",
       "182. genuine\n",
       "183. counterfeit\n",
       "184. counterfeit\n",
       "185. counterfeit\n",
       "186. counterfeit\n",
       "187. counterfeit\n",
       "188. counterfeit\n",
       "189. counterfeit\n",
       "190. counterfeit\n",
       "191. counterfeit\n",
       "192. genuine\n",
       "193. counterfeit\n",
       "194. counterfeit\n",
       "195. counterfeit\n",
       "196. counterfeit\n",
       "197. counterfeit\n",
       "198. counterfeit\n",
       "199. counterfeit\n",
       "200. counterfeit\n",
       "\n",
       "\n",
       "\n",
       "**Levels**: 1. 'counterfeit'\n",
       "2. 'genuine'\n",
       "\n",
       "\n"
      ],
      "text/plain": [
       "  [1] genuine     genuine     genuine     genuine     genuine     genuine    \n",
       "  [7] genuine     genuine     genuine     genuine     genuine     genuine    \n",
       " [13] genuine     genuine     genuine     genuine     genuine     genuine    \n",
       " [19] genuine     genuine     genuine     genuine     genuine     genuine    \n",
       " [25] genuine     genuine     genuine     genuine     genuine     genuine    \n",
       " [31] genuine     genuine     genuine     genuine     genuine     genuine    \n",
       " [37] genuine     genuine     genuine     genuine     genuine     genuine    \n",
       " [43] genuine     genuine     genuine     genuine     genuine     genuine    \n",
       " [49] genuine     genuine     genuine     genuine     genuine     genuine    \n",
       " [55] genuine     genuine     genuine     genuine     genuine     genuine    \n",
       " [61] genuine     genuine     genuine     genuine     genuine     genuine    \n",
       " [67] genuine     genuine     genuine     genuine     genuine     genuine    \n",
       " [73] genuine     genuine     genuine     genuine     genuine     genuine    \n",
       " [79] genuine     genuine     genuine     genuine     genuine     genuine    \n",
       " [85] counterfeit genuine     genuine     genuine     genuine     genuine    \n",
       " [91] genuine     genuine     genuine     genuine     genuine     genuine    \n",
       " [97] genuine     genuine     genuine     genuine     counterfeit counterfeit\n",
       "[103] counterfeit counterfeit counterfeit counterfeit counterfeit counterfeit\n",
       "[109] counterfeit counterfeit genuine     counterfeit counterfeit counterfeit\n",
       "[115] counterfeit genuine     counterfeit counterfeit counterfeit counterfeit\n",
       "[121] counterfeit counterfeit counterfeit counterfeit counterfeit counterfeit\n",
       "[127] counterfeit counterfeit counterfeit counterfeit counterfeit counterfeit\n",
       "[133] counterfeit counterfeit counterfeit counterfeit counterfeit counterfeit\n",
       "[139] counterfeit counterfeit counterfeit counterfeit counterfeit counterfeit\n",
       "[145] counterfeit counterfeit counterfeit counterfeit counterfeit counterfeit\n",
       "[151] counterfeit counterfeit counterfeit counterfeit counterfeit counterfeit\n",
       "[157] counterfeit counterfeit counterfeit counterfeit genuine     genuine    \n",
       "[163] counterfeit counterfeit counterfeit counterfeit genuine     counterfeit\n",
       "[169] counterfeit counterfeit counterfeit counterfeit counterfeit counterfeit\n",
       "[175] counterfeit counterfeit counterfeit counterfeit counterfeit counterfeit\n",
       "[181] counterfeit genuine     counterfeit counterfeit counterfeit counterfeit\n",
       "[187] counterfeit counterfeit counterfeit counterfeit counterfeit genuine    \n",
       "[193] counterfeit counterfeit counterfeit counterfeit counterfeit counterfeit\n",
       "[199] counterfeit counterfeit\n",
       "Levels: counterfeit genuine"
      ]
     },
     "metadata": {},
     "output_type": "display_data"
    }
   ],
   "source": [
    "#  補遺：LOOCVによるモデル評価\n",
    "res.cv <- lda( Status ~ Length + Bottom + Top, data = banknote, CV = TRUE )\n",
    "#  LOOCVの結果（出力結果は省略）\n",
    "res.cv$class\n",
    "\n"
   ]
  },
  {
   "cell_type": "code",
   "execution_count": 15,
   "id": "f7c71045",
   "metadata": {},
   "outputs": [
    {
     "data": {
      "text/plain": [
       "             \n",
       "              counterfeit genuine\n",
       "  counterfeit          93       7\n",
       "  genuine               1      99"
      ]
     },
     "metadata": {},
     "output_type": "display_data"
    }
   ],
   "source": [
    "#  混同行列を作成\n",
    "table( banknote$Status, res.cv$class )"
   ]
  },
  {
   "attachments": {},
   "cell_type": "markdown",
   "id": "39ef08e4",
   "metadata": {},
   "source": [
    "## 1.6 復習：スイス紙幣の真贋データの分析例\n",
    "page 10"
   ]
  },
  {
   "cell_type": "code",
   "execution_count": 17,
   "id": "c605cbac",
   "metadata": {},
   "outputs": [],
   "source": [
    "#  3つの説明変数の真札と偽札それぞれの平均を求める\n",
    "g.mean <- apply( bn.train[ 1:75, c(2, 5, 6) ], 2, mean )\n",
    "c.mean <- apply( bn.train[ 76:150, c(2, 5, 6) ], 2, mean )\n",
    "\n",
    "#  3つの説明変数の真札と偽札それぞれの分散を求める\n",
    "g.var <- var( bn.train[ 1:75, c(2, 5, 6) ] )\n",
    "c.var <- var( bn.train[ 76:150, c(2, 5, 6) ] )\n"
   ]
  },
  {
   "cell_type": "code",
   "execution_count": 18,
   "id": "10c9f191",
   "metadata": {},
   "outputs": [],
   "source": [
    "#  テストデータの各個体と真札とのマハラノビス距離を求める\n",
    "g.dist <- mahalanobis( bn.test[, c(2, 5, 6)], g.mean, g.var )\n",
    "#  テストデータの各個体と偽札とのマハラノビス距離を求める\n",
    "c.dist <- mahalanobis( bn.test[, c(2, 5, 6)], c.mean, c.var )\n",
    "#  テストデータの各個体が真札と偽札のどちらと近いか計算する\n",
    "res.mah <- data.frame( 真札 = g.dist, 偽札 = c.dist, 距離の差 = g.dist - c.dist )\n"
   ]
  },
  {
   "cell_type": "code",
   "execution_count": 19,
   "id": "88e1e037",
   "metadata": {},
   "outputs": [
    {
     "data": {
      "text/plain": [
       "             pred.mah\n",
       "              counterfeit genuine\n",
       "  counterfeit          23       2\n",
       "  genuine               0      25"
      ]
     },
     "metadata": {},
     "output_type": "display_data"
    }
   ],
   "source": [
    "#  距離の差をカテゴリに書き換える\n",
    "pred.mah <- ifelse( res.mah[, 3] <= 0, \"genuine\", \"counterfeit\" )\n",
    "#  ホールドアウト検証によるモデル評価（混同行列の作成）\n",
    "table( bn.test$Status ,  pred.mah )\n"
   ]
  },
  {
   "attachments": {},
   "cell_type": "markdown",
   "id": "74dce6a9",
   "metadata": {},
   "source": [
    "## 1.7 ロジスティック回帰を行う場合\n",
    "page 13"
   ]
  },
  {
   "cell_type": "code",
   "execution_count": 20,
   "id": "769f57f4",
   "metadata": {},
   "outputs": [
    {
     "data": {
      "text/plain": [
       "\n",
       "Call:\n",
       "glm(formula = Status ~ Length + Bottom + Top, family = binomial, \n",
       "    data = bn.train)\n",
       "\n",
       "Deviance Residuals: \n",
       "     Min        1Q    Median        3Q       Max  \n",
       "-1.69353  -0.00257   0.00000   0.02297   2.17796  \n",
       "\n",
       "Coefficients:\n",
       "            Estimate Std. Error z value Pr(>|z|)   \n",
       "(Intercept) 104.6119   228.5959   0.458  0.64722   \n",
       "Length        0.1128     1.0564   0.107  0.91497   \n",
       "Bottom       -5.6696     1.9622  -2.889  0.00386 **\n",
       "Top          -7.2212     2.5369  -2.846  0.00442 **\n",
       "---\n",
       "Signif. codes:  0 '***' 0.001 '**' 0.01 '*' 0.05 '.' 0.1 ' ' 1\n",
       "\n",
       "(Dispersion parameter for binomial family taken to be 1)\n",
       "\n",
       "    Null deviance: 207.94  on 149  degrees of freedom\n",
       "Residual deviance:  16.00  on 146  degrees of freedom\n",
       "AIC: 24\n",
       "\n",
       "Number of Fisher Scoring iterations: 10\n"
      ]
     },
     "metadata": {},
     "output_type": "display_data"
    }
   ],
   "source": [
    "#  分析の実行\n",
    "res.glm1 <- glm( Status ~ Length + Bottom + Top, data = bn.train, family = binomial )\n",
    "# 結果の出力（一部抜粋）\n",
    "summary( res.glm1 )\n"
   ]
  },
  {
   "attachments": {},
   "cell_type": "markdown",
   "id": "427bbb17",
   "metadata": {},
   "source": [
    "## 1.8 ステップワイズ法によるモデル選択\n"
   ]
  },
  {
   "cell_type": "code",
   "execution_count": 21,
   "id": "3402b9ab",
   "metadata": {},
   "outputs": [
    {
     "name": "stdout",
     "output_type": "stream",
     "text": [
      "Start:  AIC=24\n",
      "Status ~ Length + Bottom + Top\n",
      "\n",
      "         Df Deviance     AIC\n",
      "- Length  1   16.012  22.012\n",
      "<none>        16.000  24.000\n",
      "- Top     1   73.244  79.244\n",
      "- Bottom  1  139.405 145.405\n",
      "\n",
      "Step:  AIC=22.01\n",
      "Status ~ Bottom + Top\n",
      "\n",
      "         Df Deviance     AIC\n",
      "<none>        16.012  22.012\n",
      "- Top     1   75.753  79.753\n",
      "- Bottom  1  149.330 153.330\n"
     ]
    }
   ],
   "source": [
    "res.glm2 <- step( res.glm1 )\n"
   ]
  },
  {
   "attachments": {},
   "cell_type": "markdown",
   "id": "00debce2",
   "metadata": {},
   "source": [
    "## 3.7 選択されたモデルを出力（一部抜粋）\n",
    "page 15\n"
   ]
  },
  {
   "cell_type": "code",
   "execution_count": 27,
   "id": "e1f4b35a",
   "metadata": {},
   "outputs": [
    {
     "data": {
      "text/plain": [
       "\n",
       "Call:\n",
       "glm(formula = Status ~ Bottom + Top, family = binomial, data = bn.train)\n",
       "\n",
       "Deviance Residuals: \n",
       "     Min        1Q    Median        3Q       Max  \n",
       "-1.70732  -0.00266  -0.00001   0.02285   2.18538  \n",
       "\n",
       "Coefficients:\n",
       "            Estimate Std. Error z value Pr(>|z|)   \n",
       "(Intercept)  128.630     43.598   2.950  0.00317 **\n",
       "Bottom        -5.649      1.934  -2.920  0.00350 **\n",
       "Top           -7.215      2.519  -2.864  0.00418 **\n",
       "---\n",
       "Signif. codes:  0 '***' 0.001 '**' 0.01 '*' 0.05 '.' 0.1 ' ' 1\n",
       "\n",
       "(Dispersion parameter for binomial family taken to be 1)\n",
       "\n",
       "    Null deviance: 207.944  on 149  degrees of freedom\n",
       "Residual deviance:  16.012  on 147  degrees of freedom\n",
       "AIC: 22.012\n",
       "\n",
       "Number of Fisher Scoring iterations: 9\n"
      ]
     },
     "metadata": {},
     "output_type": "display_data"
    }
   ],
   "source": [
    "#  選択されたモデルを出力（一部抜粋）\n",
    "summary( res.glm2 )\n"
   ]
  },
  {
   "cell_type": "code",
   "execution_count": 24,
   "id": "48b15293",
   "metadata": {},
   "outputs": [
    {
     "data": {
      "text/plain": [
       "             pred.glm2\n",
       "              counterfeit genuine\n",
       "  counterfeit          24       1\n",
       "  genuine               0      25"
      ]
     },
     "metadata": {},
     "output_type": "display_data"
    }
   ],
   "source": [
    "# ロジスティック回帰を行う場合\n",
    "# 確率（ロジスティック回帰の左辺）を計算\n",
    "pred.glm1 <- predict( res.glm2, bn.test, type = \"response\" )\n",
    "#  確率をカテゴリに書き換える\n",
    "pred.glm2 <- ifelse( pred.glm1 >= 0.5, \"genuine\", \"counterfeit\" )\n",
    "#  ホールドアウト検証によるモデル評価（混同行列の作成）\n",
    "table( bn.test$Status ,  pred.glm2 )\n"
   ]
  },
  {
   "attachments": {},
   "cell_type": "markdown",
   "id": "a004e23a",
   "metadata": {},
   "source": [
    "## 3.8  すべての説明変数を用いて、ロジスティック回帰の実行\n"
   ]
  },
  {
   "cell_type": "code",
   "execution_count": 25,
   "id": "79940a99",
   "metadata": {},
   "outputs": [
    {
     "name": "stderr",
     "output_type": "stream",
     "text": [
      "Warning message:\n",
      "\"glm.fit: algorithm did not converge\"Warning message:\n",
      "\"glm.fit: fitted probabilities numerically 0 or 1 occurred\""
     ]
    }
   ],
   "source": [
    "#  すべての説明変数を用いて、ロジスティック回帰の実行\n",
    "res.glm3 <- glm( Status ~ ., data = bn.train, family = binomial )\n"
   ]
  },
  {
   "cell_type": "code",
   "execution_count": 26,
   "id": "240cede0",
   "metadata": {},
   "outputs": [
    {
     "data": {
      "image/png": "[encoded data removed]",
      "text/plain": [
       "plot without title"
      ]
     },
     "metadata": {},
     "output_type": "display_data"
    }
   ],
   "source": [
    "boxplot(Diagonal ~ Status, data = bn.train)\n"
   ]
  },
  {
   "cell_type": "markdown",
   "id": "eedb4ce2",
   "metadata": {},
   "source": [
    "# 4 主成分分析\n",
    "\n",
    "page 18"
   ]
  },
  {
   "cell_type": "code",
   "execution_count": 12,
   "id": "dfd45788",
   "metadata": {},
   "outputs": [
    {
     "data": {
      "text/html": [
       "<table>\n",
       "<thead><tr><th scope=col>Sepal.Length</th><th scope=col>Sepal.Width</th><th scope=col>Petal.Length</th><th scope=col>Petal.Width</th></tr></thead>\n",
       "<tbody>\n",
       "\t<tr><td>5.1</td><td>3.5</td><td>1.4</td><td>0.2</td></tr>\n",
       "\t<tr><td>4.9</td><td>3.0</td><td>1.4</td><td>0.2</td></tr>\n",
       "\t<tr><td>4.7</td><td>3.2</td><td>1.3</td><td>0.2</td></tr>\n",
       "\t<tr><td>4.6</td><td>3.1</td><td>1.5</td><td>0.2</td></tr>\n",
       "\t<tr><td>5.0</td><td>3.6</td><td>1.4</td><td>0.2</td></tr>\n",
       "\t<tr><td>5.4</td><td>3.9</td><td>1.7</td><td>0.4</td></tr>\n",
       "</tbody>\n",
       "</table>\n"
      ],
      "text/latex": [
       "\\begin{tabular}{r|llll}\n",
       " Sepal.Length & Sepal.Width & Petal.Length & Petal.Width\\\\\n",
       "\\hline\n",
       "\t 5.1 & 3.5 & 1.4 & 0.2\\\\\n",
       "\t 4.9 & 3.0 & 1.4 & 0.2\\\\\n",
       "\t 4.7 & 3.2 & 1.3 & 0.2\\\\\n",
       "\t 4.6 & 3.1 & 1.5 & 0.2\\\\\n",
       "\t 5.0 & 3.6 & 1.4 & 0.2\\\\\n",
       "\t 5.4 & 3.9 & 1.7 & 0.4\\\\\n",
       "\\end{tabular}\n"
      ],
      "text/markdown": [
       "\n",
       "| Sepal.Length | Sepal.Width | Petal.Length | Petal.Width |\n",
       "|---|---|---|---|\n",
       "| 5.1 | 3.5 | 1.4 | 0.2 |\n",
       "| 4.9 | 3.0 | 1.4 | 0.2 |\n",
       "| 4.7 | 3.2 | 1.3 | 0.2 |\n",
       "| 4.6 | 3.1 | 1.5 | 0.2 |\n",
       "| 5.0 | 3.6 | 1.4 | 0.2 |\n",
       "| 5.4 | 3.9 | 1.7 | 0.4 |\n",
       "\n"
      ],
      "text/plain": [
       "  Sepal.Length Sepal.Width Petal.Length Petal.Width\n",
       "1 5.1          3.5         1.4          0.2        \n",
       "2 4.9          3.0         1.4          0.2        \n",
       "3 4.7          3.2         1.3          0.2        \n",
       "4 4.6          3.1         1.5          0.2        \n",
       "5 5.0          3.6         1.4          0.2        \n",
       "6 5.4          3.9         1.7          0.4        "
      ]
     },
     "metadata": {},
     "output_type": "display_data"
    }
   ],
   "source": [
    "data(iris)\n",
    "irisdata<- iris[,-5]\n",
    "head(irisdata)"
   ]
  },
  {
   "cell_type": "code",
   "execution_count": 16,
   "id": "89857a19",
   "metadata": {},
   "outputs": [
    {
     "data": {
      "text/plain": [
       "Standard deviations (1, .., p=4):\n",
       "[1] 1.7083611 0.9560494 0.3830886 0.1439265\n",
       "\n",
       "Rotation (n x k) = (4 x 4):\n",
       "                    PC1         PC2        PC3        PC4\n",
       "Sepal.Length  0.5210659 -0.37741762  0.7195664  0.2612863\n",
       "Sepal.Width  -0.2693474 -0.92329566 -0.2443818 -0.1235096\n",
       "Petal.Length  0.5804131 -0.02449161 -0.1421264 -0.8014492\n",
       "Petal.Width   0.5648565 -0.06694199 -0.6342727  0.5235971"
      ]
     },
     "metadata": {},
     "output_type": "display_data"
    }
   ],
   "source": [
    "# 主成分分析\n",
    "res.pca <- prcomp( iris[, -5], scale = TRUE )\n",
    "res.pca"
   ]
  },
  {
   "cell_type": "code",
   "execution_count": 17,
   "id": "04f0cb68",
   "metadata": {},
   "outputs": [
    {
     "data": {
      "image/png": "[encoded data removed]",
      "text/plain": [
       "plot without title"
      ]
     },
     "metadata": {},
     "output_type": "display_data"
    }
   ],
   "source": [
    "\n",
    "biplot(res.pca)\n"
   ]
  },
  {
   "cell_type": "code",
   "execution_count": 18,
   "id": "f7f8e437",
   "metadata": {},
   "outputs": [
    {
     "data": {
      "image/png": "[encoded data removed]",
      "text/plain": [
       "plot without title"
      ]
     },
     "metadata": {},
     "output_type": "display_data"
    }
   ],
   "source": [
    "plot( res.pca$x[, 1:2], col = unclass( iris[, 5] ) )\n"
   ]
  },
  {
   "cell_type": "markdown",
   "id": "d0157ceb",
   "metadata": {},
   "source": [
    "# 演習1\n",
    "p 31 の例題を行う\n",
    "\n",
    "プログラムは下記に\n",
    "\n",
    "必要ならセルを追加する"
   ]
  },
  {
   "cell_type": "code",
   "execution_count": null,
   "id": "310cf597",
   "metadata": {},
   "outputs": [],
   "source": []
  },
  {
   "cell_type": "markdown",
   "id": "5e1df7c2",
   "metadata": {},
   "source": [
    "# 演習2\n",
    "余裕のある人は、さらに演習2をやるか、最終報告について検討しよう。\n",
    "\n",
    "その他、適当なデータで主成分分析をしてみよう。\n",
    "\n",
    "貿易統計、雇用統計などは政府の統計データから細かいデータが入手できる。\n",
    "\n",
    "プログラムは以下に。\n",
    "\n",
    "データは(添付して問題がないものであれば)添付する。\n",
    "\n",
    "必要に応じて、セルを追加する。\n"
   ]
  },
  {
   "cell_type": "code",
   "execution_count": null,
   "id": "177c791a",
   "metadata": {},
   "outputs": [],
   "source": []
  },
  {
   "cell_type": "code",
   "execution_count": null,
   "id": "c061097b",
   "metadata": {},
   "outputs": [],
   "source": []
  }
 ],
 "metadata": {
  "kernelspec": {
   "display_name": "R",
   "language": "R",
   "name": "ir"
  },
  "language_info": {
   "codemirror_mode": "r",
   "file_extension": ".r",
   "mimetype": "text/x-r-source",
   "name": "R",
   "pygments_lexer": "r",
   "version": "3.6.1"
  }
 },
 "nbformat": 4,
 "nbformat_minor": 5
}
